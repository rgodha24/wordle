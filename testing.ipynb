{
 "cells": [
  {
   "cell_type": "code",
   "execution_count": 4,
   "metadata": {},
   "outputs": [],
   "source": [
    "def checkWord(correctAnswer, word, ):\n",
    "    wordLength = len(word)\n",
    "    answerLetters = list(correctAnswer)\n",
    "    output = [2,2,2,2,2]\n",
    "    \n",
    "    for i in range(wordLength -1, -1, -1): # (let i = wordLength - 1; i >= 0; i--) \n",
    "        if word[i] == correctAnswer[i]:\n",
    "          output[i] = \"green\"\n",
    "          answerLetters.pop(i)\n",
    "\n",
    "    for i in range(wordLength): # (let i = 0; i < wordLength; i++) {\n",
    "        if word[i] in answerLetters and output[i] != 0:\n",
    "            output[i] = \"yellow\"\n",
    "            answerLetters.pop(answerLetters.index(word[i]))\n",
    "            \n",
    "    return output"
   ]
  },
  {
   "cell_type": "code",
   "execution_count": 6,
   "metadata": {},
   "outputs": [
    {
     "data": {
      "text/plain": [
       "['green', 'green', 'green', 2, 2]"
      ]
     },
     "execution_count": 6,
     "metadata": {},
     "output_type": "execute_result"
    }
   ],
   "source": [
    "checkWord(\"crash\", \"crane\")"
   ]
  },
  {
   "cell_type": "code",
   "execution_count": 8,
   "metadata": {},
   "outputs": [],
   "source": [
    "import json\n",
    "\n",
    "with open (\"guesses count.json\") as jsonInput:\n",
    "    x = json.load(jsonInput)"
   ]
  }
 ],
 "metadata": {
  "interpreter": {
   "hash": "aee8b7b246df8f9039afb4144a1f6fd8d2ca17a180786b69acc140d282b71a49"
  },
  "kernelspec": {
   "display_name": "Python 3.9.7 64-bit",
   "language": "python",
   "name": "python3"
  },
  "language_info": {
   "codemirror_mode": {
    "name": "ipython",
    "version": 3
   },
   "file_extension": ".py",
   "mimetype": "text/x-python",
   "name": "python",
   "nbconvert_exporter": "python",
   "pygments_lexer": "ipython3",
   "version": "3.9.7"
  },
  "orig_nbformat": 4
 },
 "nbformat": 4,
 "nbformat_minor": 2
}
