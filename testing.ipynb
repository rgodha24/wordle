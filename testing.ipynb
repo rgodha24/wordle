{
 "cells": [
  {
   "cell_type": "code",
   "execution_count": 14,
   "metadata": {},
   "outputs": [],
   "source": [
    "from math import log\n",
    "from tqdm import tqdm_notebook as tqdm\n",
    "def checkWord(correctAnswer, word, ):\n",
    "    wordLength = len(word)\n",
    "    answerLetters = list(correctAnswer)\n",
    "    output = [2,2,2,2,2]\n",
    "    \n",
    "    for i in range(wordLength -1, -1, -1): # (let i = wordLength - 1; i >= 0; i--) \n",
    "        if word[i] == correctAnswer[i]:\n",
    "          output[i] = \"green\"\n",
    "          answerLetters.pop(i)\n",
    "\n",
    "    for i in range(wordLength): # (let i = 0; i < wordLength; i++) {\n",
    "        if word[i] in answerLetters and output[i] != 0:\n",
    "            output[i] = \"yellow\"\n",
    "            answerLetters.pop(answerLetters.index(word[i]))\n",
    "            \n",
    "    return output"
   ]
  },
  {
   "cell_type": "code",
   "execution_count": 29,
   "metadata": {},
   "outputs": [
    {
     "name": "stderr",
     "output_type": "stream",
     "text": [
      "/var/folders/jv/jt2y6_4j5zz8ktzr6fdwbxhw0000gn/T/ipykernel_32141/3055357223.py:4: TqdmDeprecationWarning: This function will be removed in tqdm==5.0.0\n",
      "Please use `tqdm.notebook.tqdm` instead of `tqdm.tqdm_notebook`\n",
      "  for aaa in tqdm(range(x)):\n"
     ]
    },
    {
     "data": {
      "application/vnd.jupyter.widget-view+json": {
       "model_id": "3db3622b44514e44bd86a8a8b23b6cc8",
       "version_major": 2,
       "version_minor": 0
      },
      "text/plain": [
       "  0%|          | 0/5 [00:00<?, ?it/s]"
      ]
     },
     "metadata": {},
     "output_type": "display_data"
    }
   ],
   "source": []
  }
 ],
 "metadata": {
  "interpreter": {
   "hash": "aee8b7b246df8f9039afb4144a1f6fd8d2ca17a180786b69acc140d282b71a49"
  },
  "kernelspec": {
   "display_name": "Python 3.9.7 64-bit",
   "language": "python",
   "name": "python3"
  },
  "language_info": {
   "codemirror_mode": {
    "name": "ipython",
    "version": 3
   },
   "file_extension": ".py",
   "mimetype": "text/x-python",
   "name": "python",
   "nbconvert_exporter": "python",
   "pygments_lexer": "ipython3",
   "version": "3.9.7"
  },
  "orig_nbformat": 4
 },
 "nbformat": 4,
 "nbformat_minor": 2
}
