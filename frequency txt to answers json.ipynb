{
 "cells": [
  {
   "cell_type": "code",
   "execution_count": 12,
   "metadata": {},
   "outputs": [
    {
     "name": "stdout",
     "output_type": "stream",
     "text": [
      "['which', 'their', 'would', 'other', 'there', 'these', 'about', 'under', 'first', 'could', 'shall', 'after', 'those', 'being', 'where', 'three', 'found', 'great', 'state', 'right']\n"
     ]
    }
   ],
   "source": [
    "import json\n",
    "import operator\n",
    "\n",
    "with open(\"frequency answers.txt\") as fileInput:\n",
    "    file = list(fileInput)\n",
    "\n",
    "sortingDict = {}\n",
    "for line in file:\n",
    "    a = line.strip().split()\n",
    "    \n",
    "    sortingDict[a[0]] = float(a[1])\n",
    "\n",
    "# print(sortingDict)\n",
    "x = sorted(sortingDict.items(), key=operator.itemgetter(1), reverse=True)\n",
    "output = []\n",
    "\n",
    "for i, j in x:\n",
    "    output.append(i)\n",
    "    \n",
    "print(output[:20])\n",
    "\n",
    "with open(\"answers.json\", \"w\") as answersJson:\n",
    "    json.dump(output, answersJson)"
   ]
  }
 ],
 "metadata": {
  "interpreter": {
   "hash": "37d3097d221a05654adb49a0d02327aaab9b5d9dd37ea8f4e8b09e5ad1d7f545"
  },
  "kernelspec": {
   "display_name": "Python 3.9.10 64-bit (windows store)",
   "language": "python",
   "name": "python3"
  },
  "language_info": {
   "codemirror_mode": {
    "name": "ipython",
    "version": 3
   },
   "file_extension": ".py",
   "mimetype": "text/x-python",
   "name": "python",
   "nbconvert_exporter": "python",
   "pygments_lexer": "ipython3",
   "version": "3.9.10"
  },
  "orig_nbformat": 4
 },
 "nbformat": 4,
 "nbformat_minor": 2
}
