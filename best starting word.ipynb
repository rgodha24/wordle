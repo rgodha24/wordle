{
 "cells": [
  {
   "cell_type": "code",
   "execution_count": 1,
   "metadata": {},
   "outputs": [
    {
     "name": "stdout",
     "output_type": "stream",
     "text": [
      "[[141, 173, 198, 111, 72, 136, 115, 69, 34, 20, 20, 88, 107, 37, 41, 142, 23, 105, 366, 149, 33, 43, 83, 0, 6, 3], [304, 16, 40, 20, 242, 8, 12, 144, 202, 2, 10, 201, 38, 87, 279, 61, 5, 267, 16, 77, 186, 15, 44, 14, 23, 2], [307, 57, 56, 75, 177, 25, 67, 9, 266, 3, 12, 112, 61, 139, 244, 58, 1, 163, 80, 111, 165, 49, 26, 12, 29, 11], [163, 24, 152, 69, 318, 35, 76, 28, 158, 2, 55, 162, 68, 182, 132, 50, 0, 152, 171, 139, 82, 46, 25, 3, 3, 20], [64, 11, 31, 118, 424, 26, 41, 139, 11, 0, 113, 156, 42, 130, 58, 56, 0, 212, 36, 253, 1, 0, 17, 8, 364, 4]]\n"
     ]
    }
   ],
   "source": [
    "import json\n",
    "from random import randint \n",
    "from tqdm import tqdm_notebook as tqdm\n",
    "\n",
    "with open(\"answers.json\") as answerJson:\n",
    "    answers = json.load(answerJson)\n",
    "    \n",
    "with open(\"ok.json\") as okJson:\n",
    "    ok = json.load(okJson)\n",
    "    \n",
    "    \n",
    "# finding amount of each letter letters in all answers at given letter index\n",
    "\n",
    "def rank(ausdhb):\n",
    "    list = ausdhb.copy()\n",
    "    x = []\n",
    "    y = list.copy()\n",
    "    for i in range(len(list)):\n",
    "        a = max(list)\n",
    "        b = list.index(a)\n",
    "        \n",
    "        x.append(y.index(a))\n",
    "        list.pop(b)\n",
    "        \n",
    "    \n",
    "    return x\n",
    "\n",
    "letterList = []\n",
    "x = []\n",
    "for q in range(26):\n",
    "    x.append(0)\n",
    "    \n",
    "for w in range(5):\n",
    "    letterList.append(x.copy())\n",
    "\n",
    "for j, k in enumerate(answers):\n",
    "    for letterNumber, letter in enumerate(k):\n",
    "        letterList[letterNumber][ord(letter)-97] += 1\n",
    "        \n",
    "\n",
    "for x in range(len(letterList)):\n",
    "    #print(f\"most common letter number {x+1} is {chr(97+letterList[x].index(max(letterList[x])))} with {max(letterList[x])}\" )\n",
    "    pass\n",
    "print(letterList)\n",
    "\n",
    "ranks = []\n",
    "for i in range(5):\n",
    "    ranks.append(rank(letterList[i]))\n",
    "    \n",
    "letterRanks = []\n",
    "for i in ranks:\n",
    "    o = []\n",
    "    for j in i:\n",
    "        o.append(chr(j+97))\n",
    "        \n",
    "    letterRanks.append(o)\n",
    "    \n"
   ]
  },
  {
   "cell_type": "code",
   "execution_count": 2,
   "metadata": {},
   "outputs": [
    {
     "name": "stdout",
     "output_type": "stream",
     "text": [
      "[['s', 'c', 'b', 't', 'p', 'a', 'f', 'g', 'd', 'm', 'r', 'l', 'w', 'e', 'h', 'v', 'o', 'n', 'i', 'u', 'q', 'j', 'j', 'y', 'z', 'x'], ['a', 'o', 'r', 'e', 'i', 'l', 'u', 'h', 'n', 't', 'p', 'w', 'c', 'm', 'y', 'd', 'b', 'b', 'v', 'x', 'g', 'k', 'f', 'q', 'j', 'j'], ['a', 'i', 'o', 'e', 'u', 'r', 'n', 'l', 't', 's', 'd', 'g', 'm', 'p', 'b', 'c', 'v', 'y', 'w', 'f', 'k', 'k', 'z', 'h', 'j', 'q'], ['e', 'n', 's', 'a', 'l', 'i', 'c', 'c', 't', 'o', 'u', 'g', 'd', 'm', 'k', 'p', 'v', 'f', 'h', 'w', 'b', 'z', 'x', 'x', 'j', 'q'], ['e', 'y', 't', 'r', 'l', 'h', 'n', 'd', 'k', 'a', 'o', 'p', 'm', 'g', 's', 'c', 'f', 'w', 'b', 'b', 'x', 'z', 'u', 'j', 'j', 'j']]\n",
      "[[18, 2, 1, 19, 15, 0, 5, 6, 3, 12, 17, 11, 22, 4, 7, 21, 14, 13, 8, 20, 16, 9, 9, 24, 25, 23], [0, 14, 17, 4, 8, 11, 20, 7, 13, 19, 15, 22, 2, 12, 24, 3, 1, 1, 21, 23, 6, 10, 5, 16, 9, 9], [0, 8, 14, 4, 20, 17, 13, 11, 19, 18, 3, 6, 12, 15, 1, 2, 21, 24, 22, 5, 10, 10, 25, 7, 9, 16], [4, 13, 18, 0, 11, 8, 2, 2, 19, 14, 20, 6, 3, 12, 10, 15, 21, 5, 7, 22, 1, 25, 23, 23, 9, 16], [4, 24, 19, 17, 11, 7, 13, 3, 10, 0, 14, 15, 12, 6, 18, 2, 5, 22, 1, 1, 23, 25, 20, 9, 9, 9]]\n"
     ]
    }
   ],
   "source": [
    "print(letterRanks)\n",
    "print(ranks)"
   ]
  },
  {
   "cell_type": "code",
   "execution_count": 3,
   "metadata": {},
   "outputs": [
    {
     "name": "stderr",
     "output_type": "stream",
     "text": [
      "/var/folders/jv/jt2y6_4j5zz8ktzr6fdwbxhw0000gn/T/ipykernel_2242/738628267.py:5: TqdmDeprecationWarning: This function will be removed in tqdm==5.0.0\n",
      "Please use `tqdm.notebook.tqdm` instead of `tqdm.tqdm_notebook`\n",
      "  for i in tqdm(range(50000)):\n"
     ]
    },
    {
     "data": {
      "application/vnd.jupyter.widget-view+json": {
       "model_id": "4263cd31a2e04c63a23bc514c4cb714b",
       "version_major": 2,
       "version_minor": 0
      },
      "text/plain": [
       "  0%|          | 0/50000 [00:00<?, ?it/s]"
      ]
     },
     "metadata": {},
     "output_type": "display_data"
    },
    {
     "name": "stdout",
     "output_type": "stream",
     "text": [
      "found a better word!\n",
      "4\n",
      "found a better word!\n",
      "2\n",
      "saine 2\n"
     ]
    }
   ],
   "source": [
    "added = [0,0,0,0,0]\n",
    "bestWord = ''\n",
    "tryWord = \"\"\n",
    "bestAdded = 5\n",
    "for i in tqdm(range(50000)):\n",
    "    tryWord = ''\n",
    "    for i in range(len(added)):\n",
    "        added[i] = randint(0,5) \n",
    "    tryAdded = sum(added)    \n",
    "    \n",
    "    \n",
    "    for i in range(5):\n",
    "        tryWord += letterRanks[i][added[i]]\n",
    "    if tryAdded < bestAdded:\n",
    "        if tryWord in ok:\n",
    "            if tryAdded < bestAdded:\n",
    "                bestWord = tryWord\n",
    "                bestAdded = tryAdded\n",
    "                print(\"found a better word!\")\n",
    "                print(bestAdded)\n",
    "\n",
    "print(bestWord, bestAdded)"
   ]
  },
  {
   "cell_type": "code",
   "execution_count": null,
   "metadata": {},
   "outputs": [],
   "source": [
    "a = [4, 3, 2]\n",
    "with open(\"guesses count.json\", \"w\") as guessesJson:\n",
    "    json.dump(a, guessesJson)"
   ]
  }
 ],
 "metadata": {
  "interpreter": {
   "hash": "aee8b7b246df8f9039afb4144a1f6fd8d2ca17a180786b69acc140d282b71a49"
  },
  "kernelspec": {
   "display_name": "Python 3.9.7 64-bit",
   "language": "python",
   "name": "python3"
  },
  "language_info": {
   "codemirror_mode": {
    "name": "ipython",
    "version": 3
   },
   "file_extension": ".py",
   "mimetype": "text/x-python",
   "name": "python",
   "nbconvert_exporter": "python",
   "pygments_lexer": "ipython3",
   "version": "3.9.7"
  },
  "orig_nbformat": 4
 },
 "nbformat": 4,
 "nbformat_minor": 2
}
